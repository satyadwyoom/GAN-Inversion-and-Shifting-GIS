{
 "cells": [
  {
   "cell_type": "code",
   "execution_count": null,
   "metadata": {},
   "outputs": [],
   "source": [
    "import os\n",
    "import json\n",
    "import numpy as np\n",
    "import torch\n",
    "from torch import nn\n",
    "import torchvision\n",
    "import random\n",
    "from tqdm import *\n",
    "from PIL import Image\n",
    "from io import StringIO, BytesIO\n",
    "import lpips\n",
    "\n",
    "import torch.nn.functional as F\n",
    "import torchvision.transforms as transforms\n",
    "import torch.utils.data as Data\n",
    "from torch.utils.data import Dataset, DataLoader\n",
    "\n",
    "\n",
    "from pro_gan_pytorch.networks import create_generator_from_saved_model, create_generator_from_saved_model_opt\n",
    "from pro_gan_pytorch.utils import adjust_dynamic_range\n",
    "from torch.nn.functional import interpolate\n",
    "import torchvision.transforms.functional as fn\n",
    "from train_log import MeanTracker\n",
    "\n",
    "from torch.utils.tensorboard import SummaryWriter\n",
    "\n",
    "import model_rs as recsys_models"
   ]
  },
  {
   "cell_type": "code",
   "execution_count": null,
   "metadata": {},
   "outputs": [],
   "source": [
    "device = 1\n",
    "seed = 0\n",
    "\n",
    "data_train = 'amazon'\n",
    "out_dir = 'dummy_rec/'\n",
    "latent_dim = 512\n",
    "learning_rate = 0.00002\n",
    "training_epoch = 1000\n",
    "batch_size = 1\n",
    "numofworkers= 4\n",
    "gan_weights= '../PROGAN_AM_Fashion/Model_log_base/models/depth_7_epoch_50.bin' \n",
    "\n",
    "torch.cuda.set_device(device)\n",
    "print('Cuda is Available: ', torch.cuda.is_available())\n",
    "random.seed(seed)\n",
    "torch.random.manual_seed(seed)\n",
    "\n",
    "# print('Seed val fixed to: ', seed)"
   ]
  },
  {
   "cell_type": "code",
   "execution_count": 3,
   "metadata": {},
   "outputs": [],
   "source": [
    "if data_train == 'amazon':\n",
    "\n",
    "    dataset_name = 'AmazonFashion6ImgPartitioned.npy'\n",
    "    dataset = np.load('../DVBPR/dataset/'+ dataset_name, encoding='bytes', allow_pickle=True)\n",
    "    [user_train, _, _, Item, usernum, itemnum] = dataset\n",
    "\n",
    "elif data_train == 'tradesy':\n",
    "\n",
    "    dataset_name = 'TradesyImgPartitioned.npy'\n",
    "    dataset = np.load('../DVBPR/data/' + dataset_name, encoding='bytes')\n",
    "    [user_train, user_validation, user_test, Item, usernum, itemnum] = dataset\n",
    "    cold_list = np.load('../data/tradesy_one_k_cold.npy')"
   ]
  },
  {
   "cell_type": "code",
   "execution_count": 4,
   "metadata": {},
   "outputs": [
    {
     "name": "stdout",
     "output_type": "stream",
     "text": [
      "Total number of Train Samples:  267635\n"
     ]
    }
   ],
   "source": [
    "def default_loader(path):\n",
    "    img_pil =  Image.open(BytesIO(path)).convert('RGB')\n",
    "    img_tensor = input_transform(img_pil)\n",
    "    return img_tensor\n",
    "\n",
    "# input_transform = transforms.Compose([\n",
    "#     transforms.Resize((128, 128)),\n",
    "#     transforms.ToTensor(),\n",
    "#     # transforms.Normalize(mean=[0.485, 0.456, 0.406],\n",
    "#     #                     std=[0.229, 0.224, 0.225])\n",
    "#     # transforms.Normalize((0.6949, 0.6748, 0.6676), (0.3102, 0.3220, 0.3252))])\n",
    "#     transforms.Normalize((0.5, 0.5, 0.5),(0.5, 0.5, 0.5))\n",
    "#     ])\n",
    "\n",
    "\n",
    "input_transform = transforms.Compose([\n",
    "    transforms.Resize((128, 128)),\n",
    "    transforms.ToTensor(),\n",
    "    transforms.Normalize((0.5, 0.5, 0.5),(0.5, 0.5, 0.5))])\n",
    "\n",
    "class trainset(Dataset):\n",
    "    def __init__(self, loader=default_loader):\n",
    "        self.images_i = file_train_i\n",
    "        self.images_j = file_train_j\n",
    "        self.target = train_ls\n",
    "        self.loader = loader\n",
    "\n",
    "    def __getitem__(self, index):\n",
    "        fn_i = self.images_i[index]\n",
    "        img_i = self.loader(fn_i)\n",
    "        fn_j = self.images_j[index]\n",
    "        img_j = self.loader(fn_j)\n",
    "        target = self.target[index]\n",
    "        return img_i, img_j, target[0], target[1], target[2]\n",
    "\n",
    "    def __len__(self):\n",
    "        return len(self.images_i)\n",
    "\n",
    "\n",
    "\n",
    "# helper scale function\n",
    "def scale(x):\n",
    "    # assume x is scaled to (0, 1)\n",
    "    # scale to feature_range and return scaled x\n",
    "    x = (x - x.min()) / (x.max() - x.min())\n",
    "    return x\n",
    "\n",
    "def scale_synth(x):\n",
    "    # scale to feature_range and return scaled x\n",
    "    x = adjust_dynamic_range(x,drange_in=(-1.0, 1.0), drange_out=(0.0, 1.0))\n",
    "    return x\n",
    "\n",
    "def scale_percept(x):\n",
    "    # scale to feature_range and return scaled x\n",
    "    x = adjust_dynamic_range(x,drange_in=(-1.0, 1.0), drange_out=(-1.0, 1.0))\n",
    "\n",
    "    return x\n",
    "\n",
    "def manual_normalize(x, mean, std):\n",
    "    mean_ten = torch.Tensor(mean).unsqueeze(dim=0).unsqueeze(dim=2).unsqueeze(dim=3).cuda()\n",
    "    std_ten = torch.Tensor(std).unsqueeze(dim=0).unsqueeze(dim=2).unsqueeze(dim=3).cuda()\n",
    "    x = (x-mean_ten)/std_ten\n",
    "    return x\n",
    "\n",
    "def scale_rs(x):\n",
    "    x = adjust_dynamic_range(x,drange_in=(-1.0, 1.0), drange_out=(0.0, 1.0))\n",
    "    x = interpolate(x, size=(224, 224), mode='bilinear')\n",
    "    x = manual_normalize(x, mean=[0.6949, 0.6748, 0.6676], std=[0.3102, 0.3220, 0.3252])\n",
    "    return x\n",
    "\n",
    "\n",
    "##### Initialize Dataset Object ######\n",
    "def sample(user):\n",
    "    u = random.randrange(usernum)\n",
    "    numu = len(user[u])\n",
    "    i = user[u][random.randrange(numu)][b'productid']\n",
    "    M=set()\n",
    "    for item in user[u]:\n",
    "        M.add(item[b'productid'])\n",
    "    while True:\n",
    "        j=random.randrange(itemnum)\n",
    "        if (not j in M): break\n",
    "    return (u,i,j)\n",
    "\n",
    "oneiteration = 0\n",
    "for item in user_train: oneiteration+=len(user_train[item])\n",
    "\n",
    "train_ls = [list(sample(user_train)) for _ in range(oneiteration)]\n",
    "\n",
    "file_train_i = [Item[i][b'imgs'] for _,i,j in train_ls]\n",
    "file_train_j = [Item[j][b'imgs'] for _,i,j in train_ls]\n",
    "\n",
    "train_dataset  = trainset()\n",
    "\n",
    "\n",
    "data_loader_train = DataLoader(train_dataset, batch_size = batch_size, shuffle=True, num_workers = numofworkers, drop_last=True)\n",
    "print(\"Total number of Train Samples: \",len(train_dataset))\n"
   ]
  },
  {
   "cell_type": "code",
   "execution_count": 5,
   "metadata": {},
   "outputs": [
    {
     "name": "stdout",
     "output_type": "stream",
     "text": [
      "Generator Loaded!!\n",
      "Setting up [LPIPS] perceptual loss: trunk [vgg], v[0.1], spatial [off]\n"
     ]
    },
    {
     "name": "stderr",
     "output_type": "stream",
     "text": [
      "/home/skumar40/anaconda3/envs/Rs_attack/lib/python3.8/site-packages/torchvision/models/_utils.py:208: UserWarning: The parameter 'pretrained' is deprecated since 0.13 and will be removed in 0.15, please use 'weights' instead.\n",
      "  warnings.warn(\n",
      "/home/skumar40/anaconda3/envs/Rs_attack/lib/python3.8/site-packages/torchvision/models/_utils.py:223: UserWarning: Arguments other than a weight enum or `None` for 'weights' are deprecated since 0.13 and will be removed in 0.15. The current behavior is equivalent to passing `weights=VGG16_Weights.IMAGENET1K_V1`. You can also use `weights=VGG16_Weights.DEFAULT` to get the most up-to-date weights.\n",
      "  warnings.warn(msg)\n"
     ]
    },
    {
     "name": "stdout",
     "output_type": "stream",
     "text": [
      "Loading model from: /home/skumar40/anaconda3/envs/Rs_attack/lib/python3.8/site-packages/lpips/weights/v0.1/vgg.pth\n"
     ]
    }
   ],
   "source": [
    "class Progan_gen(nn.Module):\n",
    "    def __init__(self, weights_root):\n",
    "        super(Progan_gen, self).__init__()\n",
    "        # self.G = create_generator_from_saved_model(weights_root)\n",
    "        self.G = create_generator_from_saved_model_opt(weights_root)\n",
    "\n",
    "        self.G_curr_depth = 7\n",
    "        self.Actual_G_depth = 8\n",
    "\n",
    "    def forward(self, z, delta):\n",
    "        out = self.G(z, delta, self.G_curr_depth)\n",
    "        return out\n",
    "\n",
    "    # def gen_shifted(self, z, shift, delta):\n",
    "    #     return self.forward(z + shift, [i+shift.unsqueeze(dim=1).unsqueeze(dim=2) for i in delta])\n",
    "\n",
    "    def gen_shifted(self, z, shift, delta):\n",
    "        return self.forward(z + shift, delta)\n",
    "\n",
    "\n",
    "G = Progan_gen(gan_weights).cuda()\n",
    "G = G.eval()\n",
    "\n",
    "\n",
    "print('Generator Loaded!!')\n",
    "\n",
    "\n",
    "criterion = nn.MSELoss()\n",
    "percept = lpips.LPIPS(net='vgg').cuda()\n"
   ]
  },
  {
   "cell_type": "code",
   "execution_count": 55,
   "metadata": {},
   "outputs": [],
   "source": [
    "#### Defining models for GAN disentaglement\n",
    "from constants import DEFORMATOR_TYPE_DICT\n",
    "from latent_deformator import LatentDeformator, DeformatorType\n",
    "from latent_shift_predictor import LatentShiftPredictorV3\n",
    "from latent_shift_predictor import LatentReconstructor\n",
    "\n",
    "\n",
    "## Define Static Variable\n",
    "CE_loss = nn.CrossEntropyLoss()\n",
    "# deformator_type = 'my_case'\n",
    "deformator_type = 'my_case'\n",
    "\n",
    "deformator_random_init = True\n",
    "shift_predictor_size = None\n",
    "shift_predictor_type = 'ResNet'\n",
    "shift_distribution_key = 0 ## 0 for normal || 1 for uniform\n",
    "seed = 2\n",
    "device = 1\n",
    "multi_gpu = False\n",
    "\n",
    "\n",
    "shift_scale = 6.0\n",
    "min_shift = 0.5\n",
    "shift_distribution_type = shift_distribution_key\n",
    "\n",
    "deformator_lr = 0.01\n",
    "shift_predictor_lr = 0.01\n",
    "n_steps = int(1000)\n",
    "batch_size = 8\n",
    "\n",
    "directions_count = batch_size\n",
    "max_latent_dim = 512\n",
    "\n",
    "label_weight = 1.0\n",
    "shift_weight = 0.25\n",
    "print_Every = 100\n"
   ]
  },
  {
   "cell_type": "code",
   "execution_count": 58,
   "metadata": {},
   "outputs": [],
   "source": [
    "## takes in a list of [direction_count]\n",
    "\n",
    "# for all those batches fetch the direction_count index\n",
    "# generate a shift vector denotes how much you want to shift those directions corresponding target_indices\n",
    "# manually normalize every shift magnitude above minimum shift\n",
    "# for each of those batch size images (create a vector that basically tells for which images you will\n",
    "# continued: modify which target indice and by how much)\n",
    "\n",
    "def make_shifts(latent_dim):\n",
    "    target_indices = torch.randperm(\n",
    "        directions_count)[:batch_size].cuda()\n",
    "    if shift_distribution_type == 0:\n",
    "        shifts = torch.randn(target_indices.shape, device='cuda')\n",
    "    elif shift_distribution_type == 1:\n",
    "        shifts = 2.0 * torch.rand(target_indices.shape, device='cuda') - 1.0\n",
    "\n",
    "    shifts = shift_scale * shifts\n",
    "    shifts[(shifts < min_shift) & (shifts > 0)] = min_shift\n",
    "    shifts[(shifts > -min_shift) & (shifts < 0)] = -min_shift\n",
    "\n",
    "    try:\n",
    "        latent_dim[0]\n",
    "        latent_dim = list(latent_dim)\n",
    "    except Exception:\n",
    "        latent_dim = [latent_dim]\n",
    "\n",
    "    z_shift = torch.zeros([batch_size] + latent_dim, device='cuda')\n",
    "    for i, (index, val) in enumerate(zip(target_indices, shifts)):\n",
    "        z_shift[i][index] += val\n",
    "\n",
    "    return target_indices, shifts, z_shift\n",
    "\n",
    "\n",
    "\n",
    "def make_shifts_1(shifts, z):\n",
    "    \"\"\"\n",
    "    shifts shape should be (batch_size, 1)\n",
    "    z shape should be (batch_size, 512) ProGAN\n",
    "    \"\"\"\n",
    "    target_indices = torch.randperm(\n",
    "        batch_size)[:batch_size].cuda()\n",
    "\n",
    "    # shifts = shifts[target_indices]\n",
    "    shifts = shift_scale * shifts\n",
    "    shifts[(shifts < min_shift) & (shifts > 0)] = min_shift\n",
    "    shifts[(shifts > -min_shift) & (shifts < 0)] = -min_shift\n",
    "\n",
    "    return shifts\n",
    "\n",
    "\n",
    "def calculate_percept_loss(img_shifted):\n",
    "    k = img_shifted\n",
    "\n",
    "    total_loss = 0\n",
    "\n",
    "    for i in range(len(img_shifted)):\n",
    "        fix_image = img_shifted[i].unsqueeze(dim=0).repeat(batch_size-1,1,1,1)\n",
    "        rest_images = torch.cat([img_shifted[0:i], img_shifted[i+1:]], dim=0)\n",
    "        perceptual_loss = percept(fix_image,rest_images).mean()\n",
    "        total_loss += perceptual_loss\n",
    "\n",
    "    return total_loss/len(img_shifted)"
   ]
  },
  {
   "cell_type": "code",
   "execution_count": 59,
   "metadata": {},
   "outputs": [],
   "source": [
    "def log_train(step, should_print=True, stats=()):\n",
    "    if should_print:\n",
    "        out_text = '{}% [step {}]'.format(int(100 * step / n_steps), step)\n",
    "        for named_value in stats:\n",
    "            out_text += (' | {}: {:.2f}'.format(*named_value))\n",
    "        print(out_text)"
   ]
  },
  {
   "cell_type": "code",
   "execution_count": 165,
   "metadata": {},
   "outputs": [
    {
     "data": {
      "text/plain": [
       "<matplotlib.image.AxesImage at 0x7fdcda0b8c70>"
      ]
     },
     "execution_count": 165,
     "metadata": {},
     "output_type": "execute_result"
    },
    {
     "data": {
      "image/png": "[encoded data removed]",
      "text/plain": [
       "<Figure size 432x288 with 1 Axes>"
      ]
     },
     "metadata": {
      "needs_background": "light"
     },
     "output_type": "display_data"
    }
   ],
   "source": [
    "batch_image1, real_i, u, _, _ = next(iter(data_loader_train))\n",
    "\n",
    "import matplotlib.pyplot as plt\n",
    "plt.imshow(scale_synth(real_i)[0].permute(1,2,0))"
   ]
  },
  {
   "cell_type": "code",
   "execution_count": 166,
   "metadata": {},
   "outputs": [
    {
     "name": "stdout",
     "output_type": "stream",
     "text": [
      "Shift-predictor Loaded!\n",
      "Working on Recommender Models!!\n",
      "Loading Rs Model Weights!!!!\n"
     ]
    }
   ],
   "source": [
    "# # deformator takes in the shape (2,200,1,1)\n",
    "# deformator = LatentDeformator(shift_dim=[max_latent_dim],\n",
    "#                                 input_dim=directions_count,\n",
    "#                                 out_dim=max_latent_dim,\n",
    "#                                 type=DEFORMATOR_TYPE_DICT[deformator_type],\n",
    "#                                 random_init=deformator_random_init).cuda()\n",
    "\n",
    "## shift predictor takes in a two set of images (real and shifted)\n",
    "## output is (logits value, magnitude of shift[which image in batch was shifted by how much])\n",
    "if shift_predictor_type == 'ResNet':\n",
    "    # shift_predictor = LatentShiftPredictorv2(\n",
    "    #     batch_size, shift_predictor_size).cuda()\n",
    "    shift_predictor = LatentShiftPredictorV3(\n",
    "        batch_size, shift_predictor_size).cuda()    \n",
    "elif shift_predictor_type == 'LeNet':\n",
    "    shift_predictor = LeNetShiftPredictor(\n",
    "        batch_size, 1 if gan_type == 'SN_MNIST' else 3).cuda()\n",
    "\n",
    "latent_recon = LatentReconstructor(batch_size).cuda()\n",
    "print('Shift-predictor Loaded!')\n",
    "\n",
    "\n",
    "\n",
    "print('Working on Recommender Models!!')\n",
    "\n",
    "latent_rs_model = 100\n",
    "\n",
    "def init_weights_rs(m):\n",
    "    if type(m) == nn.Conv2d or type(m) == nn.Linear:\n",
    "        torch.nn.init.xavier_uniform_(m.weight)\n",
    "        m.bias.data.fill_(0)\n",
    "\n",
    "rs_model = nn.DataParallel(recsys_models.pthDVBPR(latent_rs_model),device_ids=[device])\n",
    "rs_model.apply(init_weights_rs)\n",
    "\n",
    "print('Loading Rs Model Weights!!!!')\n",
    "rs_path = '../AIP/models/ckpt/Newamazon_K100_19.tar'\n",
    "rs_Weights = torch.load(rs_path)\n",
    "\n",
    "rs_model.load_state_dict(rs_Weights['model_state_dict'])\n",
    "rs_model.eval()\n",
    "\n",
    "thetau = torch.from_numpy(rs_Weights['U']).cuda()"
   ]
  },
  {
   "cell_type": "code",
   "execution_count": 98,
   "metadata": {},
   "outputs": [
    {
     "name": "stdout",
     "output_type": "stream",
     "text": [
      "iter0: loss -- 1.2935445308685303,  mse_loss --0.7466624975204468,  percep_loss --0.5468820929527283\n",
      "iter100: loss -- 0.7557321786880493,  mse_loss --0.2762877345085144,  percep_loss --0.4794444739818573\n",
      "iter200: loss -- 0.6729457974433899,  mse_loss --0.2345775067806244,  percep_loss --0.4383682906627655\n",
      "iter300: loss -- 0.6435534358024597,  mse_loss --0.2227693796157837,  percep_loss --0.420784056186676\n",
      "iter400: loss -- 0.6300150752067566,  mse_loss --0.21730153262615204,  percep_loss --0.41271352767944336\n",
      "iter500: loss -- 0.6225254535675049,  mse_loss --0.21389934420585632,  percep_loss --0.40862607955932617\n",
      "iter600: loss -- 0.6144208312034607,  mse_loss --0.2102147340774536,  percep_loss --0.4042060971260071\n",
      "iter700: loss -- 0.6055546998977661,  mse_loss --0.20802998542785645,  percep_loss --0.39752474427223206\n",
      "iter800: loss -- 0.599713921546936,  mse_loss --0.20558610558509827,  percep_loss --0.3941277861595154\n",
      "iter900: loss -- 0.5934344530105591,  mse_loss --0.20223760604858398,  percep_loss --0.3911968469619751\n"
     ]
    }
   ],
   "source": [
    "G.cuda().eval()\n",
    "real_img = real_i.cuda()\n",
    "\n",
    "dlatent=torch.randn((1,512),requires_grad=True,device=device)\n",
    "\n",
    "deformator_opt=torch.optim.Adam([dlatent],lr=0.01,betas=(0.9,0.999),eps=1e-8)\n",
    "schedule_lr = torch.optim.lr_scheduler.StepLR(deformator_opt, step_size=200, gamma=0.5)\n",
    "\n",
    "recovered_step = 0\n",
    "for step in range(recovered_step, 1000, 1):\n",
    "    G.zero_grad()\n",
    "    ###### Optimizing Dlatent #######\n",
    "    deformator_opt.zero_grad()\n",
    "\n",
    "    # dlatent_mean, dlatent_std = dlatent.mean(), dlatent.std()\n",
    "    # dlatent.data = (dlatent.data-dlatent_mean)/dlatent_std\n",
    "\n",
    "    dlatent_img = scale_percept(G(dlatent, [0,0]))\n",
    "    perceptual_loss = percept(dlatent_img,real_img).mean()\n",
    "    mse_loss = criterion(dlatent_img, real_img)\n",
    "    dlatent_loss = mse_loss + perceptual_loss\n",
    "\n",
    "    dlatent_loss.backward()\n",
    "    deformator_opt.step()\n",
    "\n",
    "    if step%100==0:\n",
    "        print(\"iter{}: loss -- {},  mse_loss --{},  percep_loss --{}\".format(step,dlatent_loss.item(),mse_loss.item(),perceptual_loss.item()))"
   ]
  },
  {
   "cell_type": "code",
   "execution_count": 167,
   "metadata": {},
   "outputs": [
    {
     "name": "stdout",
     "output_type": "stream",
     "text": [
      "iter0: dl_loss: 0.81| mse_loss: 0.43| Percept: 0.38\n",
      "iter100: dl_loss: 0.54| mse_loss: 0.21| Percept: 0.33\n",
      "iter200: dl_loss: 0.51| mse_loss: 0.19| Percept: 0.32\n",
      "iter300: dl_loss: 0.50| mse_loss: 0.19| Percept: 0.31\n",
      "iter400: dl_loss: 0.48| mse_loss: 0.18| Percept: 0.31\n",
      "iter500: dl_loss: 0.45| mse_loss: 0.15| Percept: 0.30\n",
      "iter600: dl_loss: 0.38| mse_loss: 0.11| Percept: 0.27\n",
      "iter700: dl_loss: 0.11| mse_loss: 0.04| Percept: 0.08\n",
      "iter800: dl_loss: 0.10| mse_loss: 0.03| Percept: 0.07\n",
      "iter900: dl_loss: 0.10| mse_loss: 0.03| Percept: 0.07\n",
      "\n",
      "\n",
      "iter0: loss: -0.39| logit_loss: 2.23| shift_loss: 0.44| Preference_score: 3.48\n",
      "iter100: loss: -2.07| logit_loss: 0.04| shift_loss: 0.04| Preference_score: 7.06\n",
      "iter200: loss: -2.23| logit_loss: 0.02| shift_loss: 0.02| Preference_score: 7.52\n",
      "iter300: loss: -2.39| logit_loss: 0.01| shift_loss: 0.01| Preference_score: 8.02\n",
      "iter400: loss: -2.51| logit_loss: 0.02| shift_loss: 0.02| Preference_score: 8.43\n",
      "iter500: loss: -2.37| logit_loss: 0.01| shift_loss: 0.01| Preference_score: 7.93\n",
      "iter600: loss: -2.65| logit_loss: 0.01| shift_loss: 0.01| Preference_score: 8.87\n",
      "iter700: loss: -2.40| logit_loss: 0.01| shift_loss: 0.01| Preference_score: 8.02\n",
      "iter800: loss: -2.53| logit_loss: 0.01| shift_loss: 0.01| Preference_score: 8.45\n",
      "iter900: loss: -2.55| logit_loss: 0.00| shift_loss: 0.01| Preference_score: 8.53\n"
     ]
    }
   ],
   "source": [
    "G.cuda().eval()\n",
    "real_img = real_i.cuda()\n",
    "user_nu = u[0]\n",
    "\n",
    "dlatent=torch.randn((1,512),requires_grad=True,device=device)\n",
    "\n",
    "deformator_opt=torch.optim.Adam([dlatent],lr=0.01,betas=(0.9,0.999),eps=1e-8)\n",
    "schedule_lr = torch.optim.lr_scheduler.StepLR(deformator_opt, step_size=200, gamma=0.5)\n",
    "\n",
    "recovered_step = 0\n",
    "for step in range(recovered_step, 1000, 1):\n",
    "    G.zero_grad()\n",
    "    ###### Optimizing Dlatent #######\n",
    "    deformator_opt.zero_grad()\n",
    "\n",
    "    dlatent_mean, dlatent_std = dlatent.mean(), dlatent.std()\n",
    "    dlatent.data = (dlatent.data-dlatent_mean)/dlatent_std\n",
    "\n",
    "    dlatent_img = scale_percept(G(dlatent, [0,0]))\n",
    "    perceptual_loss = percept(dlatent_img,real_img).mean()\n",
    "    mse_loss = criterion(dlatent_img, real_img)\n",
    "    dlatent_loss = mse_loss + perceptual_loss\n",
    "\n",
    "    dlatent_loss.backward()\n",
    "    deformator_opt.step()\n",
    "    # schedule_lr.step()\n",
    "    if step%100==0:\n",
    "        print(\"iter{}: dl_loss: {:.2f}| mse_loss: {:.2f}| Percept: {:.2f}\".format(step,dlatent_loss.item(),mse_loss.item(),perceptual_loss.item()))\n",
    "\n",
    "print()\n",
    "print()\n",
    "dlatent_shift=torch.randn((batch_size,512),requires_grad=True,device=device)\n",
    "shift_opt = torch.optim.Adam([dlatent_shift], lr=deformator_lr)\n",
    "shift_predictor.cuda().train()\n",
    "shift_predictor_opt = torch.optim.Adam(\n",
    "    shift_predictor.parameters(), lr=shift_predictor_lr)\n",
    "\n",
    "dlatent = dlatent.detach()\n",
    "n_steps = 1000\n",
    "for step in range(recovered_step, n_steps, 1): \n",
    "    G.zero_grad()\n",
    "    ##### Optimizing dlatent shift #####\n",
    "    shift_opt.zero_grad()\n",
    "    shift_predictor_opt.zero_grad()\n",
    "\n",
    "    target_indices = torch.randperm(batch_size)[:batch_size].cuda()\n",
    "    max_shift = 0.4\n",
    "    shifts = max_shift * dlatent_shift[target_indices]\n",
    "    shifts = torch.clamp(shifts, min=-max_shift, max=max_shift)\n",
    "    z_shift = dlatent.detach() + shifts\n",
    "\n",
    "\n",
    "    z_shift_mean, z_shift_std = z_shift.mean(), z_shift.std()\n",
    "    z_shift = (z_shift-z_shift_mean)/z_shift_std\n",
    "\n",
    "    # Deformation\n",
    "    imgs = scale_percept(G(z_shift,[0,0]))\n",
    "    logits, predicted_shifts = shift_predictor(imgs)\n",
    "    logit_loss = label_weight * CE_loss(logits, target_indices)\n",
    "    shift_loss = torch.mean(torch.abs(predicted_shifts - shifts))\n",
    "\n",
    "    ### User Preference\n",
    "    rs_in = imgs\n",
    "    rs_feat = rs_model(rs_in)\n",
    "    # Preference_score = torch.log(torch.sigmoid(torch.mul(thetau[user_nu],rs_feat).sum(1))).mean()\n",
    "    Preference_score = torch.mul(thetau[user_nu],rs_feat).sum(1).mean()\n",
    "\n",
    "    # total loss\n",
    "    loss = 0.1*logit_loss + shift_loss + 0.3*(-1*Preference_score)\n",
    "    # loss = -1*Preference_score\n",
    "    loss.backward()\n",
    "\n",
    "    shift_opt.step()\n",
    "\n",
    "    shift_predictor_opt.step()\n",
    "    # update statistics trackers\n",
    "    if step%100==0:\n",
    "        print(\"iter{}: loss: {:.2f}| logit_loss: {:.2f}| shift_loss: {:.2f}| Preference_score: {:.2f}\".format(step,loss.item(),logit_loss.item(),shift_loss.item(),Preference_score.item()))\n"
   ]
  },
  {
   "cell_type": "code",
   "execution_count": 30,
   "metadata": {},
   "outputs": [],
   "source": [
    "rs_feat = rs_model(dlatent_img)\n",
    "k1 = torch.mul(thetau[user_nu],rs_feat).sum(1)"
   ]
  },
  {
   "cell_type": "code",
   "execution_count": 31,
   "metadata": {},
   "outputs": [],
   "source": [
    "rs_feat = rs_model(rs_in)\n",
    "k2 = torch.mul(thetau[user_nu],rs_feat).sum(1)"
   ]
  },
  {
   "cell_type": "code",
   "execution_count": 32,
   "metadata": {},
   "outputs": [
    {
     "data": {
      "text/plain": [
       "tensor([4.2893, 6.5083, 7.2215, 5.4220, 6.0755, 6.4609, 7.5487, 6.6154, 7.2443,\n",
       "        6.8101, 8.2616, 6.8871, 5.6493, 4.3941, 6.8382, 7.3344],\n",
       "       device='cuda:1', grad_fn=<SubBackward0>)"
      ]
     },
     "execution_count": 32,
     "metadata": {},
     "output_type": "execute_result"
    }
   ],
   "source": [
    "k2-k1"
   ]
  },
  {
   "cell_type": "code",
   "execution_count": 168,
   "metadata": {},
   "outputs": [],
   "source": [
    "img_shift, img_base=imgs.cpu().detach(), dlatent_img.cpu().detach()"
   ]
  },
  {
   "cell_type": "code",
   "execution_count": 169,
   "metadata": {},
   "outputs": [
    {
     "data": {
      "text/plain": [
       "<matplotlib.image.AxesImage at 0x7fdcdf319c10>"
      ]
     },
     "execution_count": 169,
     "metadata": {},
     "output_type": "execute_result"
    },
    {
     "data": {
      "image/png": "[encoded data removed]",
      "text/plain": [
       "<Figure size 576x576 with 1 Axes>"
      ]
     },
     "metadata": {
      "needs_background": "light"
     },
     "output_type": "display_data"
    }
   ],
   "source": [
    "import matplotlib.pyplot as plt\n",
    "Fake_images_grid = torchvision.utils.make_grid(scale_synth(img_shift).cpu().detach(), nrow=8, padding=0)\n",
    "plt.figure(figsize=[8, 8])\n",
    "plt.imshow(Fake_images_grid.permute(1,2,0))"
   ]
  },
  {
   "cell_type": "code",
   "execution_count": 170,
   "metadata": {},
   "outputs": [],
   "source": [
    "i = 5\n",
    "torchvision.utils.save_image(scale_synth(real_i)[0], 'raw_data_exp/our_image_real_{}.png'.format(i))\n",
    "torchvision.utils.save_image(scale_synth(img_base)[0], 'raw_data_exp/our_image_base_{}.png'.format(i))\n",
    "torchvision.utils.save_image(Fake_images_grid, 'raw_data_exp/our_image_final_{}.png'.format(i))\n"
   ]
  },
  {
   "cell_type": "code",
   "execution_count": 158,
   "metadata": {},
   "outputs": [
    {
     "data": {
      "text/plain": [
       "<matplotlib.image.AxesImage at 0x7fdcdf3b3070>"
      ]
     },
     "execution_count": 158,
     "metadata": {},
     "output_type": "execute_result"
    },
    {
     "data": {
      "image/png": "[encoded data removed]",
      "text/plain": [
       "<Figure size 432x288 with 1 Axes>"
      ]
     },
     "metadata": {
      "needs_background": "light"
     },
     "output_type": "display_data"
    }
   ],
   "source": [
    "plt.imshow(scale_synth(img_base)[0].permute(1,2,0))"
   ]
  },
  {
   "cell_type": "code",
   "execution_count": null,
   "metadata": {},
   "outputs": [],
   "source": [
    "plt.imshow(scale_synth(real_i)[0].permute(1,2,0))"
   ]
  },
  {
   "cell_type": "code",
   "execution_count": null,
   "metadata": {},
   "outputs": [],
   "source": []
  }
 ],
 "metadata": {
  "kernelspec": {
   "display_name": "Rs_attack",
   "language": "python",
   "name": "rs_attack"
  },
  "language_info": {
   "codemirror_mode": {
    "name": "ipython",
    "version": 3
   },
   "file_extension": ".py",
   "mimetype": "text/x-python",
   "name": "python",
   "nbconvert_exporter": "python",
   "pygments_lexer": "ipython3",
   "version": "3.8.13"
  },
  "orig_nbformat": 4
 },
 "nbformat": 4,
 "nbformat_minor": 2
}
