{
 "cells": [
  {
   "cell_type": "code",
   "execution_count": 2,
   "metadata": {},
   "outputs": [],
   "source": [
    "import os\n",
    "import json\n",
    "import numpy as np\n",
    "import torch\n",
    "from torch import nn\n",
    "import torchvision\n",
    "import random\n",
    "from tqdm import *\n",
    "from PIL import Image\n",
    "from io import StringIO, BytesIO\n",
    "import lpips\n",
    "\n",
    "import torch.nn.functional as F\n",
    "import torchvision.transforms as transforms\n",
    "import torch.utils.data as Data\n",
    "from torch.utils.data import Dataset, DataLoader\n",
    "\n",
    "\n",
    "from pro_gan_pytorch.utils import adjust_dynamic_range\n",
    "from torch.nn.functional import interpolate\n",
    "import torchvision.transforms.functional as fn\n",
    "from train_log import MeanTracker\n",
    "\n",
    "from torch.utils.tensorboard import SummaryWriter\n",
    "\n",
    "import model_rs as recsys_models"
   ]
  },
  {
   "cell_type": "code",
   "execution_count": 1,
   "metadata": {},
   "outputs": [],
   "source": [
    "def mapp(preference_scores):\n",
    "    new_sorted_pref_score = []\n",
    "    average_over = 3\n",
    "    for i in preference_scores:\n",
    "        i1 = i.sort(descending=True)[0][:average_over].unsqueeze(dim=0)\n",
    "        new_sorted_pref_score.append(i1)\n",
    "\n",
    "    new_sorted_pref_score = torch.cat(new_sorted_pref_score, dim=0)\n",
    "    return new_sorted_pref_score"
   ]
  },
  {
   "cell_type": "code",
   "execution_count": 10,
   "metadata": {},
   "outputs": [],
   "source": [
    "preference_scores_1 = mapp(torch.load('raw_data_exp/preference_score_U.pt')) \n",
    "base_preference_scores_1 = mapp(torch.load('raw_data_exp/base_preference_score_U.pt'))\n",
    "\n",
    "preference_scores_5 = mapp(torch.load('raw_data_exp/multi_user/preference_score_U_5.pt')) \n",
    "base_preference_scores_5 = mapp(torch.load('raw_data_exp/multi_user/base_preference_score_U_5.pt').unsqueeze(dim=1))\n",
    "\n",
    "preference_scores_10 = mapp(torch.load('raw_data_exp/multi_user/preference_score_U_10.pt')) \n",
    "base_preference_scores_10 = mapp(torch.load('raw_data_exp/multi_user/base_preference_score_U_10.pt').unsqueeze(dim=1))\n",
    "\n",
    "preference_scores_50 = mapp(torch.load('raw_data_exp/multi_user/preference_score_U_50.pt')) \n",
    "base_preference_scores_50 = mapp(torch.load('raw_data_exp/multi_user/base_preference_score_U_50.pt').unsqueeze(dim=1))\n",
    "\n",
    "preference_scores_100 = mapp(torch.load('raw_data_exp/multi_user/preference_score_U_100.pt'))\n",
    "base_preference_scores_100 = mapp(torch.load('raw_data_exp/multi_user/base_preference_score_U_100.pt').unsqueeze(dim=1))\n",
    "\n",
    "preference_scores_500 = mapp(torch.load('raw_data_exp/multi_user/preference_score_U_500.pt'))\n",
    "base_preference_scores_500 = mapp(torch.load('raw_data_exp/multi_user/base_preference_score_U_500.pt').unsqueeze(dim=1))\n",
    "\n",
    "preference_scores_1000 = mapp(torch.load('raw_data_exp/multi_user/preference_score_U_1000.pt'))\n",
    "base_preference_scores_1000 = mapp(torch.load('raw_data_exp/multi_user/base_preference_score_U_1000.pt').unsqueeze(dim=1))\n",
    "\n",
    "preference_scores_10000 = mapp(torch.load('raw_data_exp/multi_user/preference_score_U_10000.pt'))\n",
    "base_preference_scores_10000 = mapp(torch.load('raw_data_exp/multi_user/base_preference_score_U_10000.pt').unsqueeze(dim=1))"
   ]
  },
  {
   "cell_type": "code",
   "execution_count": 14,
   "metadata": {},
   "outputs": [],
   "source": [
    "shifted_in_score_1 = (preference_scores_1 - base_preference_scores_1).mean(dim=1)\n",
    "shifted_in_score_5 = (preference_scores_5 - base_preference_scores_5).mean(dim=1)\n",
    "shifted_in_score_10 = (preference_scores_10 - base_preference_scores_10).mean(dim=1)\n",
    "shifted_in_score_50 = (preference_scores_50 - base_preference_scores_50).mean(dim=1)\n",
    "shifted_in_score_100 = (preference_scores_100 - base_preference_scores_100).mean(dim=1)\n",
    "shifted_in_score_500 = (preference_scores_500 - base_preference_scores_500).mean(dim=1)\n",
    "shifted_in_score_1000 = (preference_scores_1000 - base_preference_scores_1000).mean(dim=1)\n",
    "shifted_in_score_10000 = (preference_scores_10000 - base_preference_scores_10000).mean(dim=1)"
   ]
  },
  {
   "cell_type": "code",
   "execution_count": 24,
   "metadata": {},
   "outputs": [
    {
     "data": {
      "image/png": "[encoded data removed]",
      "text/plain": [
       "<Figure size 720x504 with 1 Axes>"
      ]
     },
     "metadata": {
      "needs_background": "light"
     },
     "output_type": "display_data"
    }
   ],
   "source": [
    "# Import libraries\n",
    "import matplotlib.pyplot as plt\n",
    "import numpy as np\n",
    " \n",
    "# Creating dataset\n",
    "data = [shifted_in_score_1, shifted_in_score_5, shifted_in_score_10, shifted_in_score_50,shifted_in_score_100,shifted_in_score_500,shifted_in_score_1000,shifted_in_score_10000]\n",
    " \n",
    "fig = plt.figure(figsize =(10, 7))\n",
    "ax = fig.add_subplot(111)\n",
    " \n",
    "# Creating axes instance\n",
    "bp = ax.boxplot(data, patch_artist = True,\n",
    "                notch ='True', vert = 0)\n",
    " \n",
    "colors = ['#0000FF', '#00FF00',\n",
    "          '#FFFF00', '#FF00FF',\n",
    "          '#FF00FF', '#FF00FF',\n",
    "          '#FF00FF', '#FF00FF']\n",
    " \n",
    "for patch, color in zip(bp['boxes'], colors):\n",
    "    patch.set_facecolor(color)\n",
    " \n",
    "# # changing color and linewidth of\n",
    "# # whiskers\n",
    "# for whisker in bp['whiskers']:\n",
    "#     whisker.set(color ='#8B008B',\n",
    "#                 linewidth = 1.5,\n",
    "#                 linestyle =\":\")\n",
    " \n",
    "# # changing color and linewidth of\n",
    "# # caps\n",
    "# for cap in bp['caps']:\n",
    "#     cap.set(color ='#8B008B',\n",
    "#             linewidth = 2)\n",
    " \n",
    "# # changing color and linewidth of\n",
    "# # medians\n",
    "# for median in bp['medians']:\n",
    "#     median.set(color ='red',\n",
    "#                linewidth = 3)\n",
    " \n",
    "# # changing style of fliers\n",
    "# for flier in bp['fliers']:\n",
    "#     flier.set(marker ='D',\n",
    "#               color ='#e7298a',\n",
    "#               alpha = 0.5)\n",
    "     \n",
    "# x-axis labels\n",
    "ax.set_yticklabels(['1', '5', '10',\n",
    "                    '50', '100', '500',\n",
    "                    '1000', '10000'])\n",
    " \n",
    "# Adding title\n",
    "# plt.title(\"Preference Score Shift (N Users)\")\n",
    " \n",
    "# Removing top axes and right axes\n",
    "# ticks\n",
    "ax.get_xaxis().tick_bottom()\n",
    "ax.get_yaxis().tick_left()\n",
    "ax.set_ylabel('No. of Users')\n",
    "ax.set_xlabel('Preference Score Shift')\n",
    "     \n",
    "# show plot\n",
    "plt.savefig('raw_data_exp/box.png',bbox_inches='tight')"
   ]
  },
  {
   "cell_type": "code",
   "execution_count": null,
   "metadata": {},
   "outputs": [],
   "source": []
  }
 ],
 "metadata": {
  "kernelspec": {
   "display_name": "Rs_attack",
   "language": "python",
   "name": "rs_attack"
  },
  "language_info": {
   "codemirror_mode": {
    "name": "ipython",
    "version": 3
   },
   "file_extension": ".py",
   "mimetype": "text/x-python",
   "name": "python",
   "nbconvert_exporter": "python",
   "pygments_lexer": "ipython3",
   "version": "3.8.13"
  },
  "orig_nbformat": 4
 },
 "nbformat": 4,
 "nbformat_minor": 2
}
